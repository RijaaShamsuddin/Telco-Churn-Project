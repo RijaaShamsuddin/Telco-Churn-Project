{
 "cells": [
  {
   "cell_type": "code",
   "execution_count": 3,
   "id": "a69d8fdd-c92d-4115-95a6-1e49b9ac4ca4",
   "metadata": {},
   "outputs": [
    {
     "name": "stdout",
     "output_type": "stream",
     "text": [
      "Overall churn rate: 0.26578498293515357\n",
      "                    mean  count\n",
      "Contract                       \n",
      "Month-to-month  0.427097   3875\n",
      "One year        0.112772   1472\n",
      "Two year        0.028487   1685\n",
      "                   mean  count\n",
      "tenure_bucket                 \n",
      "0-6            0.533333   1470\n",
      "6-12           0.358865    705\n",
      "12-24          0.287109   1024\n",
      "24-48          0.203890   1594\n",
      "48+            0.095132   2239\n",
      "Avg monthly charges: 64.79820819112628\n"
     ]
    },
    {
     "name": "stderr",
     "output_type": "stream",
     "text": [
      "C:\\Users\\ThinkPAD\\AppData\\Local\\Temp\\ipykernel_14728\\3165650904.py:17: FutureWarning: The default of observed=False is deprecated and will be changed to True in a future version of pandas. Pass observed=False to retain current behavior or observed=True to adopt the future default and silence this warning.\n",
      "  print(df.groupby('tenure_bucket')['ChurnFlag'].agg(['mean','count']))\n"
     ]
    }
   ],
   "source": [
    "import pandas as pd\n",
    "\n",
    "df = pd.read_csv(\"../telco_data/telco_clean.csv\")\n",
    "df['ChurnFlag'] = df['Churn'].map({'Yes':1,'No':0})  # adjust column name as needed\n",
    "\n",
    "# overall churn\n",
    "overall_churn = df['ChurnFlag'].mean()\n",
    "print(\"Overall churn rate:\", overall_churn)\n",
    "\n",
    "# churn by contract\n",
    "print(df.groupby('Contract')['ChurnFlag'].agg(['mean','count']).sort_values('mean', ascending=False))\n",
    "\n",
    "# churn by tenure bucket\n",
    "bins = [0,6,12,24,48,100]\n",
    "labels = ['0-6','6-12','12-24','24-48','48+']\n",
    "df['tenure_bucket'] = pd.cut(df['tenure'], bins=bins, labels=labels)\n",
    "print(df.groupby('tenure_bucket')['ChurnFlag'].agg(['mean','count']))\n",
    "\n",
    "# avg monthly revenue\n",
    "print(\"Avg monthly charges:\", df['MonthlyCharges'].mean())\n"
   ]
  },
  {
   "cell_type": "code",
   "execution_count": null,
   "id": "25c5ee7e-6bd6-4a15-b236-2c9a72cfbce5",
   "metadata": {},
   "outputs": [],
   "source": []
  }
 ],
 "metadata": {
  "kernelspec": {
   "display_name": "Python [conda env:base] *",
   "language": "python",
   "name": "conda-base-py"
  },
  "language_info": {
   "codemirror_mode": {
    "name": "ipython",
    "version": 3
   },
   "file_extension": ".py",
   "mimetype": "text/x-python",
   "name": "python",
   "nbconvert_exporter": "python",
   "pygments_lexer": "ipython3",
   "version": "3.13.5"
  }
 },
 "nbformat": 4,
 "nbformat_minor": 5
}
